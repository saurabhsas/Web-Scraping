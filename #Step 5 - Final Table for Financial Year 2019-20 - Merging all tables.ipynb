{
 "cells": [
  {
   "cell_type": "code",
   "execution_count": 1,
   "id": "510f80fb",
   "metadata": {},
   "outputs": [],
   "source": [
    "import pandas as pd\n",
    "import numpy as np"
   ]
  },
  {
   "cell_type": "code",
   "execution_count": 2,
   "id": "019c264b",
   "metadata": {},
   "outputs": [],
   "source": [
    "#Import all data for Financial Year 2019-20"
   ]
  },
  {
   "cell_type": "code",
   "execution_count": 3,
   "id": "313823b9",
   "metadata": {},
   "outputs": [],
   "source": [
    "Table0_19_20 = pd.read_excel(r\"C:\\Users\\saura\\Desktop\\CSR\\Data From National CSR Portal (Dec 2021)\\All Data\\Table 0 (FY 2019-20)\\Table0_2019_20_final.xlsx\")\n",
    "Table11_19_20 = pd.read_csv(r\"C:\\Users\\saura\\Desktop\\CSR\\Data From National CSR Portal (Dec 2021)\\All Data\\Table 11 (FY 2019-20)\\Table11_2019_20_99999.csv\")\n",
    "Table12_19_20 = pd.read_csv(r\"C:\\Users\\saura\\Desktop\\CSR\\Data From National CSR Portal (Dec 2021)\\All Data\\Table 12 (FY 2019-20)\\Table12_2019_20_99999.csv\")"
   ]
  },
  {
   "cell_type": "code",
   "execution_count": 4,
   "id": "c6b14961",
   "metadata": {},
   "outputs": [
    {
     "name": "stdout",
     "output_type": "stream",
     "text": [
      "Count in Zeroth table: \n",
      " Unnamed: 0        22531\n",
      "CIN               22531\n",
      "CNAME             21734\n",
      "Class             21777\n",
      "Company Type      21777\n",
      "Listing Status    21777\n",
      "RoC               21741\n",
      "State             21717\n",
      "Sub Category      21741\n",
      "dtype: int64 Count in Ninth table: \n",
      " Unnamed: 0                     22531\n",
      "CIN                            22531\n",
      "Average Net Profit             22531\n",
      "CSR Prescribed Expenditure     22531\n",
      "CSR Spent                      22531\n",
      "Local Area Spent               22531\n",
      "financial_year                 22531\n",
      "dtype: int64 Count in tenth table: \n",
      " S.No                      59807\n",
      "financial_year            59807\n",
      "CIN                       59807\n",
      "csr_project               50406\n",
      "development_Sector        59807\n",
      "state_name                59807\n",
      "district                  59807\n",
      "project_amount_outlay     59807\n",
      "amount_spent              59807\n",
      "mode_of_implementation    59807\n",
      "feedback                  59807\n",
      "dtype: int64\n"
     ]
    }
   ],
   "source": [
    "print(\"Count in Zeroth table:\",\"\\n\", Table0_19_20.count(),\n",
    "      \"Count in Ninth table:\",\"\\n\",Table11_19_20.count(),\n",
    "      \"Count in tenth table:\",\"\\n\",Table12_19_20.count())"
   ]
  },
  {
   "cell_type": "code",
   "execution_count": 5,
   "id": "7816a8ef",
   "metadata": {},
   "outputs": [],
   "source": [
    "Table0_19_20 = Table0_19_20[[\"CIN\",\"CNAME\",\"Class\",\"Company Type\",\"Listing Status\",\"RoC\",\"State\",\"Sub Category\"]]\n",
    "Table11_19_20 = Table11_19_20[['CIN', 'Average Net Profit ','CSR Prescribed Expenditure ', 'CSR Spent ', \n",
    "                       'Local Area Spent ','financial_year']]\n",
    "Table12_19_20 = Table12_19_20[['S.No', 'financial_year', 'CIN', 'csr_project', 'development_Sector','state_name', 'district', \n",
    "                   'project_amount_outlay', 'amount_spent','mode_of_implementation', 'feedback']]"
   ]
  },
  {
   "cell_type": "code",
   "execution_count": 6,
   "id": "a1ca96a9",
   "metadata": {},
   "outputs": [],
   "source": [
    "from functools import reduce\n",
    "Table_19_20 = reduce(lambda x,y: pd.merge(x,y, on='CIN', how='outer'), [Table0_19_20, Table11_19_20, Table12_19_20])"
   ]
  },
  {
   "cell_type": "code",
   "execution_count": 7,
   "id": "b7c6b0f5",
   "metadata": {},
   "outputs": [],
   "source": [
    "#------------------------------------------------------------------------------------------#\n",
    "#Import additional tables:\n",
    "#------------------------------------------------------------------------------------------#"
   ]
  },
  {
   "cell_type": "code",
   "execution_count": 8,
   "id": "057eeb8b",
   "metadata": {},
   "outputs": [
    {
     "data": {
      "text/html": [
       "<div>\n",
       "<style scoped>\n",
       "    .dataframe tbody tr th:only-of-type {\n",
       "        vertical-align: middle;\n",
       "    }\n",
       "\n",
       "    .dataframe tbody tr th {\n",
       "        vertical-align: top;\n",
       "    }\n",
       "\n",
       "    .dataframe thead th {\n",
       "        text-align: right;\n",
       "    }\n",
       "</style>\n",
       "<table border=\"1\" class=\"dataframe\">\n",
       "  <thead>\n",
       "    <tr style=\"text-align: right;\">\n",
       "      <th></th>\n",
       "      <th>State</th>\n",
       "      <th>1.Social Sector</th>\n",
       "      <th>2.Health-Infrastructure</th>\n",
       "      <th>3.Tendulkar Poverty Estimates</th>\n",
       "      <th>4. Number of Schools by School</th>\n",
       "      <th>5. Prevention of Corruption Act</th>\n",
       "      <th>6.Nominal GSDP Series</th>\n",
       "      <th>7.State-wise Total Population</th>\n",
       "    </tr>\n",
       "  </thead>\n",
       "  <tbody>\n",
       "    <tr>\n",
       "      <th>0</th>\n",
       "      <td>Andaman and Nicobar Islands</td>\n",
       "      <td>NaN</td>\n",
       "      <td>Andaman &amp; Nicobar Islands</td>\n",
       "      <td>A &amp; N Islands</td>\n",
       "      <td>Andaman &amp; Nicobar Islands</td>\n",
       "      <td>A &amp; N Islands</td>\n",
       "      <td>Andaman and Nicobar Islands</td>\n",
       "      <td>Andaman and Nicobar Islands</td>\n",
       "    </tr>\n",
       "    <tr>\n",
       "      <th>1</th>\n",
       "      <td>Andhra Pradesh</td>\n",
       "      <td>Andhra Pradesh</td>\n",
       "      <td>Andhra Pradesh</td>\n",
       "      <td>Andhra Pradesh</td>\n",
       "      <td>Andhra Pradesh</td>\n",
       "      <td>Andhra Pradesh</td>\n",
       "      <td>Andhra Pradesh</td>\n",
       "      <td>Andhra Pradesh</td>\n",
       "    </tr>\n",
       "  </tbody>\n",
       "</table>\n",
       "</div>"
      ],
      "text/plain": [
       "                         State 1.Social Sector    2.Health-Infrastructure  \\\n",
       "0  Andaman and Nicobar Islands             NaN  Andaman & Nicobar Islands   \n",
       "1               Andhra Pradesh  Andhra Pradesh             Andhra Pradesh   \n",
       "\n",
       "  3.Tendulkar Poverty Estimates 4. Number of Schools by School   \\\n",
       "0                 A & N Islands       Andaman & Nicobar Islands   \n",
       "1                Andhra Pradesh                  Andhra Pradesh   \n",
       "\n",
       "  5. Prevention of Corruption Act        6.Nominal GSDP Series  \\\n",
       "0                   A & N Islands  Andaman and Nicobar Islands   \n",
       "1                  Andhra Pradesh               Andhra Pradesh   \n",
       "\n",
       "  7.State-wise Total Population  \n",
       "0   Andaman and Nicobar Islands  \n",
       "1                Andhra Pradesh  "
      ]
     },
     "execution_count": 8,
     "metadata": {},
     "output_type": "execute_result"
    }
   ],
   "source": [
    "#Standardizing all state names:\n",
    "Standard_State_Names = pd.read_excel(r\"C:\\Users\\saura\\Desktop\\CSR\\State Level Data\\State name matching for all tables.xlsx\")\n",
    "Standard_State_Names.head(2)"
   ]
  },
  {
   "cell_type": "code",
   "execution_count": 9,
   "id": "527b3dc4",
   "metadata": {},
   "outputs": [
    {
     "data": {
      "text/html": [
       "<div>\n",
       "<style scoped>\n",
       "    .dataframe tbody tr th:only-of-type {\n",
       "        vertical-align: middle;\n",
       "    }\n",
       "\n",
       "    .dataframe tbody tr th {\n",
       "        vertical-align: top;\n",
       "    }\n",
       "\n",
       "    .dataframe thead th {\n",
       "        text-align: right;\n",
       "    }\n",
       "</style>\n",
       "<table border=\"1\" class=\"dataframe\">\n",
       "  <thead>\n",
       "    <tr style=\"text-align: right;\">\n",
       "      <th></th>\n",
       "      <th>State</th>\n",
       "      <th>Social Sector Expenditure (by the State Governments) 2019-20</th>\n",
       "    </tr>\n",
       "  </thead>\n",
       "  <tbody>\n",
       "    <tr>\n",
       "      <th>0</th>\n",
       "      <td>Andhra Pradesh</td>\n",
       "      <td>80571</td>\n",
       "    </tr>\n",
       "    <tr>\n",
       "      <th>1</th>\n",
       "      <td>Arunachal Pradesh</td>\n",
       "      <td>6210</td>\n",
       "    </tr>\n",
       "  </tbody>\n",
       "</table>\n",
       "</div>"
      ],
      "text/plain": [
       "               State  \\\n",
       "0     Andhra Pradesh   \n",
       "1  Arunachal Pradesh   \n",
       "\n",
       "   Social Sector Expenditure (by the State Governments) 2019-20  \n",
       "0                                              80571             \n",
       "1                                               6210             "
      ]
     },
     "execution_count": 9,
     "metadata": {},
     "output_type": "execute_result"
    }
   ],
   "source": [
    "#1.Social Sector Expenditure: Here values are in Crores\n",
    "SSE = pd.read_csv(r\"C:\\Users\\saura\\Desktop\\CSR\\State Level Data\\CSVs for Python\\1.Social Sector Expenditure.csv\")\n",
    "SSE = SSE[[\"State/Union Territory\",\"2019-20\"]]\n",
    "SSE = SSE.rename(columns={\"2019-20\": \"Social Sector Expenditure (by the State Governments) 2019-20\"})\n",
    "SSE = SSE.merge(Standard_State_Names, left_on='State/Union Territory', right_on='State', how='left')\n",
    "SSE = SSE[[\"State\",\"Social Sector Expenditure (by the State Governments) 2019-20\"]]\n",
    "SSE = SSE.dropna()\n",
    "SSE.head(2)"
   ]
  },
  {
   "cell_type": "code",
   "execution_count": 10,
   "id": "06f6250a",
   "metadata": {},
   "outputs": [
    {
     "data": {
      "text/html": [
       "<div>\n",
       "<style scoped>\n",
       "    .dataframe tbody tr th:only-of-type {\n",
       "        vertical-align: middle;\n",
       "    }\n",
       "\n",
       "    .dataframe tbody tr th {\n",
       "        vertical-align: top;\n",
       "    }\n",
       "\n",
       "    .dataframe thead th {\n",
       "        text-align: right;\n",
       "    }\n",
       "</style>\n",
       "<table border=\"1\" class=\"dataframe\">\n",
       "  <thead>\n",
       "    <tr style=\"text-align: right;\">\n",
       "      <th></th>\n",
       "      <th>State</th>\n",
       "      <th>Health Centres 2018-19</th>\n",
       "    </tr>\n",
       "  </thead>\n",
       "  <tbody>\n",
       "    <tr>\n",
       "      <th>0</th>\n",
       "      <td>Andhra Pradesh</td>\n",
       "      <td>9162</td>\n",
       "    </tr>\n",
       "    <tr>\n",
       "      <th>1</th>\n",
       "      <td>Arunachal Pradesh</td>\n",
       "      <td>595</td>\n",
       "    </tr>\n",
       "  </tbody>\n",
       "</table>\n",
       "</div>"
      ],
      "text/plain": [
       "               State  Health Centres 2018-19\n",
       "0     Andhra Pradesh                    9162\n",
       "1  Arunachal Pradesh                     595"
      ]
     },
     "execution_count": 10,
     "metadata": {},
     "output_type": "execute_result"
    }
   ],
   "source": [
    "#2.Health-Infrastructure: As of latest data for FY 2018-19 is only available\n",
    "HI = pd.read_csv(r\"C:\\Users\\saura\\Desktop\\CSR\\State Level Data\\CSVs for Python\\2.Health-Infrastructure.csv\")\n",
    "HI = HI[[\"State/Union Territory\",\"Total (2018-19)\"]]\n",
    "HI = HI.rename(columns={\"Total (2018-19)\" : \"Health Centres 2018-19\"})\n",
    "HI = HI.merge(Standard_State_Names, left_on='State/Union Territory', right_on='State', how='left')\n",
    "HI = HI[[\"State\",\"Health Centres 2018-19\"]]\n",
    "HI = HI.dropna()\n",
    "HI.head(2)"
   ]
  },
  {
   "cell_type": "code",
   "execution_count": 11,
   "id": "e7cc8936",
   "metadata": {},
   "outputs": [
    {
     "data": {
      "text/html": [
       "<div>\n",
       "<style scoped>\n",
       "    .dataframe tbody tr th:only-of-type {\n",
       "        vertical-align: middle;\n",
       "    }\n",
       "\n",
       "    .dataframe tbody tr th {\n",
       "        vertical-align: top;\n",
       "    }\n",
       "\n",
       "    .dataframe thead th {\n",
       "        text-align: right;\n",
       "    }\n",
       "</style>\n",
       "<table border=\"1\" class=\"dataframe\">\n",
       "  <thead>\n",
       "    <tr style=\"text-align: right;\">\n",
       "      <th></th>\n",
       "      <th>State</th>\n",
       "      <th>Number Below Poverty Line(in Lakhs) 2011-12</th>\n",
       "    </tr>\n",
       "  </thead>\n",
       "  <tbody>\n",
       "    <tr>\n",
       "      <th>0</th>\n",
       "      <td>Andhra Pradesh</td>\n",
       "      <td>78.8</td>\n",
       "    </tr>\n",
       "    <tr>\n",
       "      <th>1</th>\n",
       "      <td>Arunachal Pradesh</td>\n",
       "      <td>4.9</td>\n",
       "    </tr>\n",
       "  </tbody>\n",
       "</table>\n",
       "</div>"
      ],
      "text/plain": [
       "               State  Number Below Poverty Line(in Lakhs) 2011-12\n",
       "0     Andhra Pradesh                                         78.8\n",
       "1  Arunachal Pradesh                                          4.9"
      ]
     },
     "execution_count": 11,
     "metadata": {},
     "output_type": "execute_result"
    }
   ],
   "source": [
    "#3.Tendulkar Poverty Estimates (Combined) : Number Below Poverty Line (Lakhs)\n",
    "BPL = pd.read_csv(r\"C:\\Users\\saura\\Desktop\\CSR\\State Level Data\\CSVs for Python\\3.Tendulkar Poverty Estimates (Combined).csv\")\n",
    "BPL = BPL[[\"State/Union Territory\",\"2011-12\"]]\n",
    "BPL = BPL.rename(columns = {\"2011-12\" : \"Number Below Poverty Line(in Lakhs) 2011-12\"})\n",
    "BPL = BPL.merge(Standard_State_Names, left_on='State/Union Territory', right_on='State', how='left')\n",
    "BPL = BPL[[\"State\",\"Number Below Poverty Line(in Lakhs) 2011-12\"]]\n",
    "BPL = BPL.dropna()\n",
    "BPL.head(2)"
   ]
  },
  {
   "cell_type": "code",
   "execution_count": 12,
   "id": "7c6af38e",
   "metadata": {},
   "outputs": [
    {
     "data": {
      "text/html": [
       "<div>\n",
       "<style scoped>\n",
       "    .dataframe tbody tr th:only-of-type {\n",
       "        vertical-align: middle;\n",
       "    }\n",
       "\n",
       "    .dataframe tbody tr th {\n",
       "        vertical-align: top;\n",
       "    }\n",
       "\n",
       "    .dataframe thead th {\n",
       "        text-align: right;\n",
       "    }\n",
       "</style>\n",
       "<table border=\"1\" class=\"dataframe\">\n",
       "  <thead>\n",
       "    <tr style=\"text-align: right;\">\n",
       "      <th></th>\n",
       "      <th>State</th>\n",
       "      <th>Total Number of Schools 2019-20</th>\n",
       "    </tr>\n",
       "  </thead>\n",
       "  <tbody>\n",
       "    <tr>\n",
       "      <th>1</th>\n",
       "      <td>Andhra Pradesh</td>\n",
       "      <td>63824</td>\n",
       "    </tr>\n",
       "    <tr>\n",
       "      <th>2</th>\n",
       "      <td>Arunachal Pradesh</td>\n",
       "      <td>3666</td>\n",
       "    </tr>\n",
       "  </tbody>\n",
       "</table>\n",
       "</div>"
      ],
      "text/plain": [
       "               State  Total Number of Schools 2019-20\n",
       "1     Andhra Pradesh                            63824\n",
       "2  Arunachal Pradesh                             3666"
      ]
     },
     "execution_count": 12,
     "metadata": {},
     "output_type": "execute_result"
    }
   ],
   "source": [
    "#4. Number of Schools by School Management and School Category :\n",
    "SCHO = pd.read_csv(r\"C:\\Users\\saura\\Desktop\\CSR\\State Level Data\\CSVs for Python\\4. Number of Schools by School Management and School Category.csv\")\n",
    "SCHO = SCHO[[\"State/Union Territory\",\"2019-20\"]]\n",
    "SCHO = SCHO.rename(columns={\"2019-20\":\"Total Number of Schools 2019-20\"})\n",
    "SCHO = SCHO.merge(Standard_State_Names, left_on='State/Union Territory', right_on='State', how='left')\n",
    "SCHO = SCHO[[\"State\",\"Total Number of Schools 2019-20\"]]\n",
    "SCHO = SCHO.dropna()\n",
    "SCHO.head(2)"
   ]
  },
  {
   "cell_type": "code",
   "execution_count": 13,
   "id": "56c45c40",
   "metadata": {},
   "outputs": [
    {
     "data": {
      "text/plain": [
       "State                                        28\n",
       "Total Corruption Cases Registered in 2019    28\n",
       "dtype: int64"
      ]
     },
     "execution_count": 13,
     "metadata": {},
     "output_type": "execute_result"
    }
   ],
   "source": [
    "#5. Prevention of Corruption Act & Related Sections of IPC Cases Reported\n",
    "PCA = pd.read_csv(r\"C:\\Users\\saura\\Desktop\\CSR\\State Level Data\\CSVs for Python\\5. Prevention of Corruption Act & Related Sections of IPC Cases Reported.csv\")\n",
    "PCA = PCA[[\"State/Union Territory\",\"2019\"]]\n",
    "PCA = PCA.rename(columns={\"2019\" : \"Total Corruption Cases Registered in 2019\"})\n",
    "PCA = PCA.merge(Standard_State_Names, left_on='State/Union Territory', right_on='State', how='left')\n",
    "PCA = PCA[[\"State\",\"Total Corruption Cases Registered in 2019\"]]\n",
    "PCA = PCA.dropna()\n",
    "PCA.count()"
   ]
  },
  {
   "cell_type": "code",
   "execution_count": 14,
   "id": "93624a78",
   "metadata": {},
   "outputs": [
    {
     "data": {
      "text/html": [
       "<div>\n",
       "<style scoped>\n",
       "    .dataframe tbody tr th:only-of-type {\n",
       "        vertical-align: middle;\n",
       "    }\n",
       "\n",
       "    .dataframe tbody tr th {\n",
       "        vertical-align: top;\n",
       "    }\n",
       "\n",
       "    .dataframe thead th {\n",
       "        text-align: right;\n",
       "    }\n",
       "</style>\n",
       "<table border=\"1\" class=\"dataframe\">\n",
       "  <thead>\n",
       "    <tr style=\"text-align: right;\">\n",
       "      <th></th>\n",
       "      <th>State</th>\n",
       "      <th>GSDP - CURRENT PRICES (Amount in Rs. Crore) 2019-20</th>\n",
       "    </tr>\n",
       "  </thead>\n",
       "  <tbody>\n",
       "    <tr>\n",
       "      <th>0</th>\n",
       "      <td>Andaman and Nicobar Islands</td>\n",
       "      <td>971923</td>\n",
       "    </tr>\n",
       "    <tr>\n",
       "      <th>1</th>\n",
       "      <td>Andhra Pradesh</td>\n",
       "      <td>97122422</td>\n",
       "    </tr>\n",
       "  </tbody>\n",
       "</table>\n",
       "</div>"
      ],
      "text/plain": [
       "                         State  \\\n",
       "0  Andaman and Nicobar Islands   \n",
       "1               Andhra Pradesh   \n",
       "\n",
       "   GSDP - CURRENT PRICES (Amount in Rs. Crore) 2019-20  \n",
       "0                                             971923    \n",
       "1                                           97122422    "
      ]
     },
     "execution_count": 14,
     "metadata": {},
     "output_type": "execute_result"
    }
   ],
   "source": [
    "#6.Nominal GSDP Series : in ₹ Lakhs\n",
    "GSDP = pd.read_csv(r\"C:\\Users\\saura\\Desktop\\CSR\\State Level Data\\CSVs for Python\\6.Nominal GSDP Series.csv\")\n",
    "GSDP = GSDP[[\"State/Union Territory\",\"2019-20\"]]\n",
    "GSDP = GSDP.rename(columns={\"2019-20\":\"GSDP - CURRENT PRICES (Amount in Rs. Crore) 2019-20\"})\n",
    "GSDP = GSDP.merge(Standard_State_Names, left_on='State/Union Territory', right_on='State', how='left')\n",
    "GSDP = GSDP[[\"State\",\"GSDP - CURRENT PRICES (Amount in Rs. Crore) 2019-20\"]]\n",
    "GSDP = GSDP.dropna()\n",
    "GSDP.head(2)"
   ]
  },
  {
   "cell_type": "code",
   "execution_count": 15,
   "id": "d8c24107",
   "metadata": {},
   "outputs": [
    {
     "data": {
      "text/html": [
       "<div>\n",
       "<style scoped>\n",
       "    .dataframe tbody tr th:only-of-type {\n",
       "        vertical-align: middle;\n",
       "    }\n",
       "\n",
       "    .dataframe tbody tr th {\n",
       "        vertical-align: top;\n",
       "    }\n",
       "\n",
       "    .dataframe thead th {\n",
       "        text-align: right;\n",
       "    }\n",
       "</style>\n",
       "<table border=\"1\" class=\"dataframe\">\n",
       "  <thead>\n",
       "    <tr style=\"text-align: right;\">\n",
       "      <th></th>\n",
       "      <th>State</th>\n",
       "      <th>State-wise Total Population (In Thousand, 2011 Census)</th>\n",
       "    </tr>\n",
       "  </thead>\n",
       "  <tbody>\n",
       "    <tr>\n",
       "      <th>0</th>\n",
       "      <td>Andaman and Nicobar Islands</td>\n",
       "      <td>381</td>\n",
       "    </tr>\n",
       "    <tr>\n",
       "      <th>1</th>\n",
       "      <td>Andhra Pradesh</td>\n",
       "      <td>84581</td>\n",
       "    </tr>\n",
       "  </tbody>\n",
       "</table>\n",
       "</div>"
      ],
      "text/plain": [
       "                         State  \\\n",
       "0  Andaman and Nicobar Islands   \n",
       "1               Andhra Pradesh   \n",
       "\n",
       "   State-wise Total Population (In Thousand, 2011 Census)  \n",
       "0                                                381       \n",
       "1                                              84581       "
      ]
     },
     "execution_count": 15,
     "metadata": {},
     "output_type": "execute_result"
    }
   ],
   "source": [
    "#7.State-wise Total Population :\n",
    "Population = pd.read_csv(r\"C:\\Users\\saura\\Desktop\\CSR\\State Level Data\\CSVs for Python\\7.State-wise Total Population.csv\")\n",
    "Population = Population[[\"State/Union Territory\",\"2011\"]]\n",
    "Population = Population.rename(columns={\"2011\":\"State-wise Total Population (In Thousand, 2011 Census)\"})\n",
    "Population = Population.merge(Standard_State_Names, left_on='State/Union Territory', right_on='State', how='left')\n",
    "Population = Population[[\"State\",\"State-wise Total Population (In Thousand, 2011 Census)\"]]\n",
    "Population = Population.dropna()\n",
    "Population.head(2)"
   ]
  },
  {
   "cell_type": "code",
   "execution_count": 17,
   "id": "a06b488a",
   "metadata": {},
   "outputs": [],
   "source": [
    "#Company Type:\n",
    "Table_19_20[\"Company Type(CIN)1\"] = Table_19_20[\"CIN\"].str[12:15]"
   ]
  },
  {
   "cell_type": "code",
   "execution_count": 18,
   "id": "1bc7a8be",
   "metadata": {},
   "outputs": [],
   "source": [
    "Table_19_20.loc[Table_19_20['Company Type(CIN)1'] == 'FLC', 'Company Type(CIN)'] = 'Financial Lease Company as Public Limited'\n",
    "Table_19_20.loc[Table_19_20['Company Type(CIN)1'] == 'FTC', 'Company Type(CIN)'] = 'Subsidiary of a Foreign Company as Private Limited Company'\n",
    "Table_19_20.loc[Table_19_20['Company Type(CIN)1'] == 'GAP', 'Company Type(CIN)'] = 'General Association Public'\n",
    "Table_19_20.loc[Table_19_20['Company Type(CIN)1'] == 'GAT', 'Company Type(CIN)'] = 'General Association Private'\n",
    "Table_19_20.loc[Table_19_20['Company Type(CIN)1'] == 'GOI', 'Company Type(CIN)'] = 'Companies owned by Govt'\n",
    "Table_19_20.loc[Table_19_20['Company Type(CIN)1'] == 'NPL', 'Company Type(CIN)'] = 'Not For Profits License Company'\n",
    "Table_19_20.loc[Table_19_20['Company Type(CIN)1'] == 'PLC', 'Company Type(CIN)'] = 'Public Limited Company'\n",
    "Table_19_20.loc[Table_19_20['Company Type(CIN)1'] == 'PTC', 'Company Type(CIN)'] = 'Private Limited Company'\n",
    "Table_19_20.loc[Table_19_20['Company Type(CIN)1'] == 'SCG', 'Company Type(CIN)'] = 'Companies owned by State Govt'\n",
    "Table_19_20.loc[Table_19_20['Company Type(CIN)1'] == 'ULL', 'Company Type(CIN)'] = 'Public Limited Company with Unlimited Liability'\n",
    "Table_19_20.loc[Table_19_20['Company Type(CIN)1'] == 'ULT', 'Company Type(CIN)'] = 'Private Limited Company with Unlimited Liability'"
   ]
  },
  {
   "cell_type": "code",
   "execution_count": 19,
   "id": "dede736c",
   "metadata": {},
   "outputs": [
    {
     "data": {
      "text/html": [
       "<div>\n",
       "<style scoped>\n",
       "    .dataframe tbody tr th:only-of-type {\n",
       "        vertical-align: middle;\n",
       "    }\n",
       "\n",
       "    .dataframe tbody tr th {\n",
       "        vertical-align: top;\n",
       "    }\n",
       "\n",
       "    .dataframe thead th {\n",
       "        text-align: right;\n",
       "    }\n",
       "</style>\n",
       "<table border=\"1\" class=\"dataframe\">\n",
       "  <thead>\n",
       "    <tr style=\"text-align: right;\">\n",
       "      <th></th>\n",
       "      <th>CIN</th>\n",
       "      <th>CNAME</th>\n",
       "      <th>Class</th>\n",
       "      <th>Company Type</th>\n",
       "      <th>Listing Status</th>\n",
       "      <th>RoC</th>\n",
       "      <th>State</th>\n",
       "      <th>Sub Category</th>\n",
       "      <th>Average Net Profit</th>\n",
       "      <th>CSR Prescribed Expenditure</th>\n",
       "      <th>...</th>\n",
       "      <th>financial_year_y</th>\n",
       "      <th>csr_project</th>\n",
       "      <th>development_Sector</th>\n",
       "      <th>state_name</th>\n",
       "      <th>district</th>\n",
       "      <th>project_amount_outlay</th>\n",
       "      <th>amount_spent</th>\n",
       "      <th>mode_of_implementation</th>\n",
       "      <th>feedback</th>\n",
       "      <th>Company Type(CIN)</th>\n",
       "    </tr>\n",
       "  </thead>\n",
       "  <tbody>\n",
       "    <tr>\n",
       "      <th>0</th>\n",
       "      <td>L00000CH1983PLC031318</td>\n",
       "      <td>Sab Industries Limited</td>\n",
       "      <td>Public</td>\n",
       "      <td>Other than Govt. Companies</td>\n",
       "      <td>Listed</td>\n",
       "      <td>ROC-CHANDIGARH</td>\n",
       "      <td>Chandigarh</td>\n",
       "      <td>Company limited by Shares</td>\n",
       "      <td>0.00</td>\n",
       "      <td>0.0</td>\n",
       "      <td>...</td>\n",
       "      <td>2019-2020</td>\n",
       "      <td>NaN</td>\n",
       "      <td>NEC/ Not Mentioned</td>\n",
       "      <td>NEC/ Not Mentioned</td>\n",
       "      <td>NEC/ Not mentioned</td>\n",
       "      <td>0</td>\n",
       "      <td>0</td>\n",
       "      <td>NEC/ Not Mentioned</td>\n",
       "      <td>✏</td>\n",
       "      <td>Public Limited Company</td>\n",
       "    </tr>\n",
       "    <tr>\n",
       "      <th>1</th>\n",
       "      <td>L00000CH1990PLC010573</td>\n",
       "      <td>Lakshmi Energy And Foods Limited</td>\n",
       "      <td>Public</td>\n",
       "      <td>Other than Govt. Companies</td>\n",
       "      <td>Listed</td>\n",
       "      <td>ROC-CHANDIGARH</td>\n",
       "      <td>Chandigarh</td>\n",
       "      <td>Company limited by Shares</td>\n",
       "      <td>0.00</td>\n",
       "      <td>0.0</td>\n",
       "      <td>...</td>\n",
       "      <td>2019-2020</td>\n",
       "      <td>NaN</td>\n",
       "      <td>NEC/ Not Mentioned</td>\n",
       "      <td>NEC/ Not Mentioned</td>\n",
       "      <td>NEC/ Not mentioned</td>\n",
       "      <td>0</td>\n",
       "      <td>0</td>\n",
       "      <td>NEC/ Not Mentioned</td>\n",
       "      <td>✏</td>\n",
       "      <td>Public Limited Company</td>\n",
       "    </tr>\n",
       "  </tbody>\n",
       "</table>\n",
       "<p>2 rows × 24 columns</p>\n",
       "</div>"
      ],
      "text/plain": [
       "                     CIN                             CNAME    Class  \\\n",
       "0  L00000CH1983PLC031318            Sab Industries Limited  Public    \n",
       "1  L00000CH1990PLC010573  Lakshmi Energy And Foods Limited  Public    \n",
       "\n",
       "                  Company Type Listing Status             RoC       State  \\\n",
       "0  Other than Govt. Companies          Listed  ROC-CHANDIGARH  Chandigarh   \n",
       "1  Other than Govt. Companies          Listed  ROC-CHANDIGARH  Chandigarh   \n",
       "\n",
       "                 Sub Category Average Net Profit   \\\n",
       "0  Company limited by Shares                0.00    \n",
       "1  Company limited by Shares                0.00    \n",
       "\n",
       "   CSR Prescribed Expenditure   ... financial_year_y csr_project  \\\n",
       "0                          0.0  ...        2019-2020         NaN   \n",
       "1                          0.0  ...        2019-2020         NaN   \n",
       "\n",
       "   development_Sector          state_name            district  \\\n",
       "0  NEC/ Not Mentioned  NEC/ Not Mentioned  NEC/ Not mentioned   \n",
       "1  NEC/ Not Mentioned  NEC/ Not Mentioned  NEC/ Not mentioned   \n",
       "\n",
       "  project_amount_outlay amount_spent mode_of_implementation feedback  \\\n",
       "0                     0            0     NEC/ Not Mentioned        ✏   \n",
       "1                     0            0     NEC/ Not Mentioned        ✏   \n",
       "\n",
       "        Company Type(CIN)  \n",
       "0  Public Limited Company  \n",
       "1  Public Limited Company  \n",
       "\n",
       "[2 rows x 24 columns]"
      ]
     },
     "execution_count": 19,
     "metadata": {},
     "output_type": "execute_result"
    }
   ],
   "source": [
    "Table_19_20.drop('Company Type(CIN)1', axis=1, inplace=True)\n",
    "Table_19_20.head(2)"
   ]
  },
  {
   "cell_type": "code",
   "execution_count": 20,
   "id": "2491b428",
   "metadata": {},
   "outputs": [
    {
     "data": {
      "text/html": [
       "<div>\n",
       "<style scoped>\n",
       "    .dataframe tbody tr th:only-of-type {\n",
       "        vertical-align: middle;\n",
       "    }\n",
       "\n",
       "    .dataframe tbody tr th {\n",
       "        vertical-align: top;\n",
       "    }\n",
       "\n",
       "    .dataframe thead th {\n",
       "        text-align: right;\n",
       "    }\n",
       "</style>\n",
       "<table border=\"1\" class=\"dataframe\">\n",
       "  <thead>\n",
       "    <tr style=\"text-align: right;\">\n",
       "      <th></th>\n",
       "      <th>Name of the Company</th>\n",
       "      <th>Group Company</th>\n",
       "    </tr>\n",
       "  </thead>\n",
       "  <tbody>\n",
       "    <tr>\n",
       "      <th>0</th>\n",
       "      <td>Adani International Container Terminal Private...</td>\n",
       "      <td>Adani Group</td>\n",
       "    </tr>\n",
       "    <tr>\n",
       "      <th>1</th>\n",
       "      <td>Adani Township &amp; Real Estate Company Private L...</td>\n",
       "      <td>Adani Group</td>\n",
       "    </tr>\n",
       "    <tr>\n",
       "      <th>2</th>\n",
       "      <td>Adani Infrastructure And Developers Private Li...</td>\n",
       "      <td>Adani Group</td>\n",
       "    </tr>\n",
       "    <tr>\n",
       "      <th>3</th>\n",
       "      <td>Adani Ports And Special Economic Zone Limited</td>\n",
       "      <td>Adani Group</td>\n",
       "    </tr>\n",
       "    <tr>\n",
       "      <th>4</th>\n",
       "      <td>Adani Petronet (Dahej) Port Private Limited</td>\n",
       "      <td>Adani Group</td>\n",
       "    </tr>\n",
       "  </tbody>\n",
       "</table>\n",
       "</div>"
      ],
      "text/plain": [
       "                                 Name of the Company Group Company\n",
       "0  Adani International Container Terminal Private...   Adani Group\n",
       "1  Adani Township & Real Estate Company Private L...   Adani Group\n",
       "2  Adani Infrastructure And Developers Private Li...   Adani Group\n",
       "3      Adani Ports And Special Economic Zone Limited   Adani Group\n",
       "4        Adani Petronet (Dahej) Port Private Limited   Adani Group"
      ]
     },
     "execution_count": 20,
     "metadata": {},
     "output_type": "execute_result"
    }
   ],
   "source": [
    "#Group Companies\n",
    "Group_Comp = pd.read_excel(r\"C:\\Users\\saura\\Desktop\\CSR\\Data From National CSR Portal (Dec 2021)\\Group Companies.xlsx\")\n",
    "Group_Comp.head()"
   ]
  },
  {
   "cell_type": "code",
   "execution_count": 21,
   "id": "02d1f171",
   "metadata": {},
   "outputs": [],
   "source": [
    "#------------------------------------------------------------------------------------------#\n",
    "#Merging all additional tables one by one:\n",
    "#------------------------------------------------------------------------------------------#"
   ]
  },
  {
   "cell_type": "code",
   "execution_count": 22,
   "id": "2495f4cd",
   "metadata": {},
   "outputs": [],
   "source": [
    "Table_19_20 = pd.merge(Table_19_20,Population,on=\"State\",how='left')\n",
    "Table_19_20 = pd.merge(Table_19_20,GSDP,on=\"State\",how='left')\n",
    "Table_19_20 = pd.merge(Table_19_20,SSE,on=\"State\",how='left')\n",
    "Table_19_20 = pd.merge(Table_19_20,HI,on=\"State\",how='left')\n",
    "Table_19_20 = pd.merge(Table_19_20,BPL,on=\"State\",how='left')\n",
    "Table_19_20 = pd.merge(Table_19_20,SCHO,on=\"State\",how='left')\n",
    "Table_19_20 = pd.merge(Table_19_20,Group_Comp,left_on=\"CNAME\",right_on=\"Name of the Company\",how='left')\n",
    "Table_19_20 = pd.merge(Table_19_20,PCA,on=\"State\",how='left')"
   ]
  },
  {
   "cell_type": "code",
   "execution_count": 23,
   "id": "3e70829e",
   "metadata": {},
   "outputs": [],
   "source": [
    "Table_19_20.drop('Name of the Company', axis=1, inplace=True)\n",
    "Table_19_20.drop('financial_year_y', axis=1, inplace=True)\n",
    "Table_19_20 = Table_19_20.rename(columns = {\"financial_year_x\" : \"Financial Year\"})\n",
    "Table_19_20 = Table_19_20.rename(columns = {\"CNAME\" : \"Name of the Company\"})\n",
    "Table_19_20 = Table_19_20.rename(columns = {\"State\" : \"State of Registration\"})\n",
    "Table_19_20 = Table_19_20.rename(columns = {\"csr_project\" : \"CSR Project\"})\n",
    "Table_19_20 = Table_19_20.rename(columns = {\"development_Sector\" : \"Development Sector\"})\n",
    "Table_19_20 = Table_19_20.rename(columns = {\"state_name\" : \"State/Union Territory\"})\n",
    "Table_19_20 = Table_19_20.rename(columns = {\"district\" : \"District\"})\n",
    "Table_19_20 = Table_19_20.rename(columns = {\"project_amount_outlay\" : \"Project Amount Outlay\"})\n",
    "Table_19_20 = Table_19_20.rename(columns = {\"amount_spent\" : \"Amount Spent\"})\n",
    "Table_19_20 = Table_19_20.rename(columns = {\"mode_of_implementation\" : \"Mode of Implementation\"})"
   ]
  },
  {
   "cell_type": "code",
   "execution_count": 25,
   "id": "5582c861",
   "metadata": {},
   "outputs": [
    {
     "data": {
      "text/plain": [
       "CIN                                                             59825\n",
       "Name of the Company                                             58775\n",
       "Class                                                           58870\n",
       "Company Type                                                    58870\n",
       "Listing Status                                                  58870\n",
       "RoC                                                             58814\n",
       "State of Registration                                           58788\n",
       "Sub Category                                                    58814\n",
       "Average Net Profit                                              59825\n",
       "CSR Prescribed Expenditure                                      59825\n",
       "CSR Spent                                                       59825\n",
       "Local Area Spent                                                59825\n",
       "Financial Year                                                  59825\n",
       "S.No                                                            59825\n",
       "CSR Project                                                     50424\n",
       "Development Sector                                              59825\n",
       "State/Union Territory                                           59825\n",
       "District                                                        59825\n",
       "Project Amount Outlay                                           59825\n",
       "Amount Spent                                                    59825\n",
       "Mode of Implementation                                          59825\n",
       "feedback                                                        59825\n",
       "Company Type(CIN)                                               59238\n",
       "State-wise Total Population (In Thousand, 2011 Census)          55213\n",
       "GSDP - CURRENT PRICES (Amount in Rs. Crore) 2019-20             57933\n",
       "Social Sector Expenditure (by the State Governments) 2019-20    49389\n",
       "Health Centres 2018-19                                          57887\n",
       "Number Below Poverty Line(in Lakhs) 2011-12                     55154\n",
       "Total Number of Schools 2019-20                                 51909\n",
       "Group Company                                                    1879\n",
       "Total Corruption Cases Registered in 2019                       57887\n",
       "dtype: int64"
      ]
     },
     "execution_count": 25,
     "metadata": {},
     "output_type": "execute_result"
    }
   ],
   "source": [
    "Table_19_20.count()"
   ]
  },
  {
   "cell_type": "code",
   "execution_count": 26,
   "id": "58ddba46",
   "metadata": {},
   "outputs": [],
   "source": [
    "Table_19_20.to_excel(r\"C:\\Users\\saura\\Desktop\\CSR\\Data From National CSR Portal (Dec 2021)\\Table_Loc_0_11_12 (Financial Year 2019-20).xlsx\")"
   ]
  },
  {
   "cell_type": "code",
   "execution_count": null,
   "id": "35714f8d",
   "metadata": {},
   "outputs": [],
   "source": []
  }
 ],
 "metadata": {
  "kernelspec": {
   "display_name": "Python 3",
   "language": "python",
   "name": "python3"
  },
  "language_info": {
   "codemirror_mode": {
    "name": "ipython",
    "version": 3
   },
   "file_extension": ".py",
   "mimetype": "text/x-python",
   "name": "python",
   "nbconvert_exporter": "python",
   "pygments_lexer": "ipython3",
   "version": "3.8.8"
  }
 },
 "nbformat": 4,
 "nbformat_minor": 5
}
