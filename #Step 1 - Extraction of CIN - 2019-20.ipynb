{
 "cells": [
  {
   "cell_type": "code",
   "execution_count": 1,
   "id": "60cc1649",
   "metadata": {},
   "outputs": [],
   "source": [
    "import pandas as pd\n",
    "import numpy as np\n",
    "from bs4 import BeautifulSoup\n",
    "import requests\n",
    "from urllib.request import urlopen"
   ]
  },
  {
   "cell_type": "code",
   "execution_count": 2,
   "id": "a6a93a8f",
   "metadata": {},
   "outputs": [],
   "source": [
    "#Extract data as a table with pandas\n",
    "#separate = pd.read_html('https://www.csr.gov.in/companylist.php?csr_spent_range=&state=&district=&mact=&year=FY%202019-20&compCat=&listing=Listed')\n",
    "#new = pd.concat([separate[0]])\n",
    "#new.head()"
   ]
  },
  {
   "cell_type": "code",
   "execution_count": 3,
   "id": "fbae1d31",
   "metadata": {},
   "outputs": [],
   "source": [
    "html = urlopen(\"https://www.csr.gov.in/companylist.php?csr_spent_range=&state=&district=&mact=&year=FY%202019-20&compCat=&listing=Listed\")\n",
    "soup = BeautifulSoup(html.read(),'lxml')\n",
    "links = []\n",
    "for link in soup.find_all('a'):\n",
    "    links.append(link.get('href'))"
   ]
  },
  {
   "cell_type": "code",
   "execution_count": 4,
   "id": "8f12049c",
   "metadata": {},
   "outputs": [
    {
     "data": {
      "text/plain": [
       "CIN    2808\n",
       "dtype: int64"
      ]
     },
     "execution_count": 4,
     "metadata": {},
     "output_type": "execute_result"
    }
   ],
   "source": [
    "links = links[61:] #removing extra list element\n",
    "new_links = [x[-21:] for x in links] #extraction of las 21 characters for CIN\n",
    "new_links = new_links[:2808] #keep only the CINs for 2808 companies\n",
    "\n",
    "#Creating a DataFrame for listed companies\n",
    "df1=pd.DataFrame({\"CIN\":new_links})\n",
    "df1.count()"
   ]
  },
  {
   "cell_type": "code",
   "execution_count": 5,
   "id": "03e84b01",
   "metadata": {},
   "outputs": [
    {
     "data": {
      "text/html": [
       "<div>\n",
       "<style scoped>\n",
       "    .dataframe tbody tr th:only-of-type {\n",
       "        vertical-align: middle;\n",
       "    }\n",
       "\n",
       "    .dataframe tbody tr th {\n",
       "        vertical-align: top;\n",
       "    }\n",
       "\n",
       "    .dataframe thead th {\n",
       "        text-align: right;\n",
       "    }\n",
       "</style>\n",
       "<table border=\"1\" class=\"dataframe\">\n",
       "  <thead>\n",
       "    <tr style=\"text-align: right;\">\n",
       "      <th></th>\n",
       "      <th>CIN</th>\n",
       "    </tr>\n",
       "  </thead>\n",
       "  <tbody>\n",
       "    <tr>\n",
       "      <th>2803</th>\n",
       "      <td>L25209DL1971PLC005535</td>\n",
       "    </tr>\n",
       "    <tr>\n",
       "      <th>2804</th>\n",
       "      <td>L67120WB1993PLC061111</td>\n",
       "    </tr>\n",
       "    <tr>\n",
       "      <th>2805</th>\n",
       "      <td>L63040MH1939PLC011352</td>\n",
       "    </tr>\n",
       "    <tr>\n",
       "      <th>2806</th>\n",
       "      <td>L24231TN1988PLC015882</td>\n",
       "    </tr>\n",
       "    <tr>\n",
       "      <th>2807</th>\n",
       "      <td>L45203MH1996PLC281138</td>\n",
       "    </tr>\n",
       "  </tbody>\n",
       "</table>\n",
       "</div>"
      ],
      "text/plain": [
       "                        CIN\n",
       "2803  L25209DL1971PLC005535\n",
       "2804  L67120WB1993PLC061111\n",
       "2805  L63040MH1939PLC011352\n",
       "2806  L24231TN1988PLC015882\n",
       "2807  L45203MH1996PLC281138"
      ]
     },
     "execution_count": 5,
     "metadata": {},
     "output_type": "execute_result"
    }
   ],
   "source": [
    "df1.tail()"
   ]
  },
  {
   "cell_type": "code",
   "execution_count": 6,
   "id": "50dd7411",
   "metadata": {},
   "outputs": [],
   "source": [
    "html = urlopen(\"https://www.csr.gov.in/companylist.php?csr_spent_range=&state=&district=&mact=&year=FY%202019-20&compCat=&listing=Unlisted\")\n",
    "soup = BeautifulSoup(html.read(),'lxml')\n",
    "links = []\n",
    "for link in soup.find_all('a'):\n",
    "    links.append(link.get('href'))"
   ]
  },
  {
   "cell_type": "code",
   "execution_count": 7,
   "id": "3894e991",
   "metadata": {},
   "outputs": [
    {
     "data": {
      "text/plain": [
       "CIN    19723\n",
       "dtype: int64"
      ]
     },
     "execution_count": 7,
     "metadata": {},
     "output_type": "execute_result"
    }
   ],
   "source": [
    "links = links[61:] #removing extra list element\n",
    "new_links = [x[-21:] for x in links] #extraction of las 21 characters for CIN\n",
    "new_links = new_links[:19723] #keep only the CINs for 2808 companies\n",
    "\n",
    "#Creating a DataFrame for Un-listed companies\n",
    "df2=pd.DataFrame({\"CIN\":new_links})\n",
    "df2.count()"
   ]
  },
  {
   "cell_type": "code",
   "execution_count": 8,
   "id": "7e1885cc",
   "metadata": {},
   "outputs": [
    {
     "data": {
      "text/plain": [
       "CIN    22531\n",
       "dtype: int64"
      ]
     },
     "execution_count": 8,
     "metadata": {},
     "output_type": "execute_result"
    }
   ],
   "source": [
    "#Append Listed and Un-listed CIN\n",
    "df = df1.append(df2,ignore_index = True)\n",
    "df.count()"
   ]
  },
  {
   "cell_type": "code",
   "execution_count": 9,
   "id": "c59e4a55",
   "metadata": {},
   "outputs": [
    {
     "name": "stdout",
     "output_type": "stream",
     "text": [
      "                     CIN\n",
      "0  L17110MH1973PLC019786\n",
      "1  L22210MH1995PLC084781 \n",
      "                          CIN\n",
      "22529  U01132WB2009PTC131897\n",
      "22530  U70102TG2005PTC046067\n"
     ]
    }
   ],
   "source": [
    "print(df.head(2),\"\\n\",df.tail(2))"
   ]
  },
  {
   "cell_type": "code",
   "execution_count": 10,
   "id": "3a6e0fea",
   "metadata": {},
   "outputs": [],
   "source": [
    "df.to_excel(r\"C:\\Users\\saura\\Desktop\\CSR\\Data From National CSR Portal (Dec 2021)\\CSR - Company CIN.xlsx\",sheet_name = \"Financial Year 2019-2020\")"
   ]
  },
  {
   "cell_type": "code",
   "execution_count": 11,
   "id": "270b930e",
   "metadata": {},
   "outputs": [
    {
     "data": {
      "text/plain": [
       "22531"
      ]
     },
     "execution_count": 11,
     "metadata": {},
     "output_type": "execute_result"
    }
   ],
   "source": [
    "#Check for the duplicate CIN(s)\n",
    "arr = df.CIN.unique()\n",
    "np.count_nonzero(arr)"
   ]
  },
  {
   "cell_type": "code",
   "execution_count": null,
   "id": "fd7b5fa4",
   "metadata": {},
   "outputs": [],
   "source": []
  }
 ],
 "metadata": {
  "kernelspec": {
   "display_name": "Python 3",
   "language": "python",
   "name": "python3"
  },
  "language_info": {
   "codemirror_mode": {
    "name": "ipython",
    "version": 3
   },
   "file_extension": ".py",
   "mimetype": "text/x-python",
   "name": "python",
   "nbconvert_exporter": "python",
   "pygments_lexer": "ipython3",
   "version": "3.8.8"
  }
 },
 "nbformat": 4,
 "nbformat_minor": 5
}
