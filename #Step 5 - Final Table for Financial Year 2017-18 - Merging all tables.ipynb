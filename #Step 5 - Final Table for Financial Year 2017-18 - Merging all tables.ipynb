{
 "cells": [
  {
   "cell_type": "code",
   "execution_count": 1,
   "id": "510f80fb",
   "metadata": {},
   "outputs": [],
   "source": [
    "import pandas as pd\n",
    "import numpy as np"
   ]
  },
  {
   "cell_type": "code",
   "execution_count": 2,
   "id": "019c264b",
   "metadata": {},
   "outputs": [],
   "source": [
    "#Import all data for Financial Year 2017-18"
   ]
  },
  {
   "cell_type": "code",
   "execution_count": 3,
   "id": "313823b9",
   "metadata": {},
   "outputs": [],
   "source": [
    "Table0_17_18 = pd.read_csv(r\"C:\\Users\\saura\\Desktop\\CSR\\Data From National CSR Portal (Dec 2021)\\All Data\\Table 0 (FY 2017-18)\\Table0_2017_18_final.csv\")\n",
    "Table7_17_18 = pd.read_csv(r\"C:\\Users\\saura\\Desktop\\CSR\\Data From National CSR Portal (Dec 2021)\\All Data\\Table 7 (FY 2017-18)\\Table7_2017_18_9999999.csv\")\n",
    "Table8_17_18 = pd.read_csv(r\"C:\\Users\\saura\\Desktop\\CSR\\Data From National CSR Portal (Dec 2021)\\All Data\\Table 8 (FY 2017-18)\\Table8_2017_18_final.csv\")"
   ]
  },
  {
   "cell_type": "code",
   "execution_count": 4,
   "id": "c6b14961",
   "metadata": {},
   "outputs": [
    {
     "name": "stdout",
     "output_type": "stream",
     "text": [
      "Count in Zeroth table: \n",
      " Unnamed: 0        21517\n",
      "CIN               21517\n",
      "CNAME             21395\n",
      "Class             21510\n",
      "Company Type      21510\n",
      "Listing Status    21510\n",
      "RoC               21378\n",
      "State             21378\n",
      "Sub Category      21378\n",
      "dtype: int64 Count in Ninth table: \n",
      " Unnamed: 0                     21517\n",
      "CIN                            21517\n",
      "Average Net Profit             21517\n",
      "CSR Prescribed Expenditure     21517\n",
      "CSR Spent                      21517\n",
      "Local Area Spent               21517\n",
      "financial_year                 21517\n",
      "dtype: int64 Count in tenth table: \n",
      " S.No                      49311\n",
      "financial_year            49311\n",
      "CIN                       49311\n",
      "csr_project               38575\n",
      "development_Sector        49311\n",
      "state_name                49311\n",
      "district                  49267\n",
      "project_amount_outlay     49311\n",
      "amount_spent              49311\n",
      "mode_of_implementation    40636\n",
      "feedback                  49311\n",
      "dtype: int64\n"
     ]
    }
   ],
   "source": [
    "print(\"Count in Zeroth table:\",\"\\n\", Table0_17_18.count(),\n",
    "      \"Count in Ninth table:\",\"\\n\",Table7_17_18.count(),\n",
    "      \"Count in tenth table:\",\"\\n\",Table8_17_18.count())"
   ]
  },
  {
   "cell_type": "code",
   "execution_count": 5,
   "id": "7816a8ef",
   "metadata": {},
   "outputs": [],
   "source": [
    "Table0_17_18 = Table0_17_18[[\"CIN\",\"CNAME\",\"Class\",\"Company Type\",\"Listing Status\",\"RoC\",\"State\",\"Sub Category\"]]\n",
    "Table7_17_18 = Table7_17_18[['CIN', 'Average Net Profit ','CSR Prescribed Expenditure ', 'CSR Spent ', \n",
    "                       'Local Area Spent ','financial_year']]\n",
    "Table8_17_18 = Table8_17_18[['S.No', 'financial_year', 'CIN', 'csr_project', 'development_Sector','state_name', 'district', \n",
    "                   'project_amount_outlay', 'amount_spent','mode_of_implementation', 'feedback']]"
   ]
  },
  {
   "cell_type": "code",
   "execution_count": 6,
   "id": "a1ca96a9",
   "metadata": {},
   "outputs": [],
   "source": [
    "from functools import reduce\n",
    "Table_17_18 = reduce(lambda x,y: pd.merge(x,y, on='CIN', how='outer'), [Table0_17_18, Table7_17_18, Table8_17_18])"
   ]
  },
  {
   "cell_type": "code",
   "execution_count": 7,
   "id": "b7c6b0f5",
   "metadata": {},
   "outputs": [],
   "source": [
    "#------------------------------------------------------------------------------------------#\n",
    "#Import additional tables:\n",
    "#------------------------------------------------------------------------------------------#"
   ]
  },
  {
   "cell_type": "code",
   "execution_count": 8,
   "id": "057eeb8b",
   "metadata": {},
   "outputs": [
    {
     "data": {
      "text/html": [
       "<div>\n",
       "<style scoped>\n",
       "    .dataframe tbody tr th:only-of-type {\n",
       "        vertical-align: middle;\n",
       "    }\n",
       "\n",
       "    .dataframe tbody tr th {\n",
       "        vertical-align: top;\n",
       "    }\n",
       "\n",
       "    .dataframe thead th {\n",
       "        text-align: right;\n",
       "    }\n",
       "</style>\n",
       "<table border=\"1\" class=\"dataframe\">\n",
       "  <thead>\n",
       "    <tr style=\"text-align: right;\">\n",
       "      <th></th>\n",
       "      <th>State</th>\n",
       "      <th>1.Social Sector</th>\n",
       "      <th>2.Health-Infrastructure</th>\n",
       "      <th>3.Tendulkar Poverty Estimates</th>\n",
       "      <th>4. Number of Schools by School</th>\n",
       "      <th>5. Prevention of Corruption Act</th>\n",
       "      <th>6.Nominal GSDP Series</th>\n",
       "      <th>7.State-wise Total Population</th>\n",
       "    </tr>\n",
       "  </thead>\n",
       "  <tbody>\n",
       "    <tr>\n",
       "      <th>0</th>\n",
       "      <td>Andaman and Nicobar Islands</td>\n",
       "      <td>NaN</td>\n",
       "      <td>Andaman &amp; Nicobar Islands</td>\n",
       "      <td>A &amp; N Islands</td>\n",
       "      <td>Andaman &amp; Nicobar Islands</td>\n",
       "      <td>A &amp; N Islands</td>\n",
       "      <td>Andaman and Nicobar Islands</td>\n",
       "      <td>Andaman and Nicobar Islands</td>\n",
       "    </tr>\n",
       "    <tr>\n",
       "      <th>1</th>\n",
       "      <td>Andhra Pradesh</td>\n",
       "      <td>Andhra Pradesh</td>\n",
       "      <td>Andhra Pradesh</td>\n",
       "      <td>Andhra Pradesh</td>\n",
       "      <td>Andhra Pradesh</td>\n",
       "      <td>Andhra Pradesh</td>\n",
       "      <td>Andhra Pradesh</td>\n",
       "      <td>Andhra Pradesh</td>\n",
       "    </tr>\n",
       "  </tbody>\n",
       "</table>\n",
       "</div>"
      ],
      "text/plain": [
       "                         State 1.Social Sector    2.Health-Infrastructure  \\\n",
       "0  Andaman and Nicobar Islands             NaN  Andaman & Nicobar Islands   \n",
       "1               Andhra Pradesh  Andhra Pradesh             Andhra Pradesh   \n",
       "\n",
       "  3.Tendulkar Poverty Estimates 4. Number of Schools by School   \\\n",
       "0                 A & N Islands       Andaman & Nicobar Islands   \n",
       "1                Andhra Pradesh                  Andhra Pradesh   \n",
       "\n",
       "  5. Prevention of Corruption Act        6.Nominal GSDP Series  \\\n",
       "0                   A & N Islands  Andaman and Nicobar Islands   \n",
       "1                  Andhra Pradesh               Andhra Pradesh   \n",
       "\n",
       "  7.State-wise Total Population  \n",
       "0   Andaman and Nicobar Islands  \n",
       "1                Andhra Pradesh  "
      ]
     },
     "execution_count": 8,
     "metadata": {},
     "output_type": "execute_result"
    }
   ],
   "source": [
    "#Standardizing all state names:\n",
    "Standard_State_Names = pd.read_excel(r\"C:\\Users\\saura\\Desktop\\CSR\\State Level Data\\State name matching for all tables.xlsx\")\n",
    "Standard_State_Names.head(2)"
   ]
  },
  {
   "cell_type": "code",
   "execution_count": 9,
   "id": "527b3dc4",
   "metadata": {},
   "outputs": [
    {
     "data": {
      "text/html": [
       "<div>\n",
       "<style scoped>\n",
       "    .dataframe tbody tr th:only-of-type {\n",
       "        vertical-align: middle;\n",
       "    }\n",
       "\n",
       "    .dataframe tbody tr th {\n",
       "        vertical-align: top;\n",
       "    }\n",
       "\n",
       "    .dataframe thead th {\n",
       "        text-align: right;\n",
       "    }\n",
       "</style>\n",
       "<table border=\"1\" class=\"dataframe\">\n",
       "  <thead>\n",
       "    <tr style=\"text-align: right;\">\n",
       "      <th></th>\n",
       "      <th>State</th>\n",
       "      <th>Social Sector Expenditure (by the State Governments) 2017-18</th>\n",
       "    </tr>\n",
       "  </thead>\n",
       "  <tbody>\n",
       "    <tr>\n",
       "      <th>0</th>\n",
       "      <td>Andhra Pradesh</td>\n",
       "      <td>72856</td>\n",
       "    </tr>\n",
       "    <tr>\n",
       "      <th>1</th>\n",
       "      <td>Arunachal Pradesh</td>\n",
       "      <td>5476</td>\n",
       "    </tr>\n",
       "  </tbody>\n",
       "</table>\n",
       "</div>"
      ],
      "text/plain": [
       "               State  \\\n",
       "0     Andhra Pradesh   \n",
       "1  Arunachal Pradesh   \n",
       "\n",
       "   Social Sector Expenditure (by the State Governments) 2017-18  \n",
       "0                                              72856             \n",
       "1                                               5476             "
      ]
     },
     "execution_count": 9,
     "metadata": {},
     "output_type": "execute_result"
    }
   ],
   "source": [
    "#1.Social Sector Expenditure: Here values are in Crores\n",
    "SSE = pd.read_csv(r\"C:\\Users\\saura\\Desktop\\CSR\\State Level Data\\CSVs for Python\\1.Social Sector Expenditure.csv\")\n",
    "SSE = SSE[[\"State/Union Territory\",\"2017-18\"]]\n",
    "SSE = SSE.rename(columns={\"2017-18\": \"Social Sector Expenditure (by the State Governments) 2017-18\"})\n",
    "SSE = SSE.merge(Standard_State_Names, left_on='State/Union Territory', right_on='State', how='left')\n",
    "SSE = SSE[[\"State\",\"Social Sector Expenditure (by the State Governments) 2017-18\"]]\n",
    "SSE = SSE.dropna()\n",
    "SSE.head(2)"
   ]
  },
  {
   "cell_type": "code",
   "execution_count": 10,
   "id": "06f6250a",
   "metadata": {},
   "outputs": [
    {
     "data": {
      "text/html": [
       "<div>\n",
       "<style scoped>\n",
       "    .dataframe tbody tr th:only-of-type {\n",
       "        vertical-align: middle;\n",
       "    }\n",
       "\n",
       "    .dataframe tbody tr th {\n",
       "        vertical-align: top;\n",
       "    }\n",
       "\n",
       "    .dataframe thead th {\n",
       "        text-align: right;\n",
       "    }\n",
       "</style>\n",
       "<table border=\"1\" class=\"dataframe\">\n",
       "  <thead>\n",
       "    <tr style=\"text-align: right;\">\n",
       "      <th></th>\n",
       "      <th>State</th>\n",
       "      <th>Health Centres 2017-18</th>\n",
       "    </tr>\n",
       "  </thead>\n",
       "  <tbody>\n",
       "    <tr>\n",
       "      <th>0</th>\n",
       "      <td>Andhra Pradesh</td>\n",
       "      <td>8806</td>\n",
       "    </tr>\n",
       "    <tr>\n",
       "      <th>1</th>\n",
       "      <td>Arunachal Pradesh</td>\n",
       "      <td>536</td>\n",
       "    </tr>\n",
       "  </tbody>\n",
       "</table>\n",
       "</div>"
      ],
      "text/plain": [
       "               State  Health Centres 2017-18\n",
       "0     Andhra Pradesh                    8806\n",
       "1  Arunachal Pradesh                     536"
      ]
     },
     "execution_count": 10,
     "metadata": {},
     "output_type": "execute_result"
    }
   ],
   "source": [
    "#2.Health-Infrastructure:\n",
    "HI = pd.read_csv(r\"C:\\Users\\saura\\Desktop\\CSR\\State Level Data\\CSVs for Python\\2.Health-Infrastructure.csv\")\n",
    "HI = HI[[\"State/Union Territory\",\"Total (2017-18)\"]]\n",
    "HI = HI.rename(columns={\"Total (2017-18)\" : \"Health Centres 2017-18\"})\n",
    "HI = HI.merge(Standard_State_Names, left_on='State/Union Territory', right_on='State', how='left')\n",
    "HI = HI[[\"State\",\"Health Centres 2017-18\"]]\n",
    "HI = HI.dropna()\n",
    "HI.head(2)"
   ]
  },
  {
   "cell_type": "code",
   "execution_count": 11,
   "id": "e7cc8936",
   "metadata": {},
   "outputs": [
    {
     "data": {
      "text/html": [
       "<div>\n",
       "<style scoped>\n",
       "    .dataframe tbody tr th:only-of-type {\n",
       "        vertical-align: middle;\n",
       "    }\n",
       "\n",
       "    .dataframe tbody tr th {\n",
       "        vertical-align: top;\n",
       "    }\n",
       "\n",
       "    .dataframe thead th {\n",
       "        text-align: right;\n",
       "    }\n",
       "</style>\n",
       "<table border=\"1\" class=\"dataframe\">\n",
       "  <thead>\n",
       "    <tr style=\"text-align: right;\">\n",
       "      <th></th>\n",
       "      <th>State</th>\n",
       "      <th>Number Below Poverty Line(in Lakhs) 2011-12</th>\n",
       "    </tr>\n",
       "  </thead>\n",
       "  <tbody>\n",
       "    <tr>\n",
       "      <th>0</th>\n",
       "      <td>Andhra Pradesh</td>\n",
       "      <td>78.8</td>\n",
       "    </tr>\n",
       "    <tr>\n",
       "      <th>1</th>\n",
       "      <td>Arunachal Pradesh</td>\n",
       "      <td>4.9</td>\n",
       "    </tr>\n",
       "  </tbody>\n",
       "</table>\n",
       "</div>"
      ],
      "text/plain": [
       "               State  Number Below Poverty Line(in Lakhs) 2011-12\n",
       "0     Andhra Pradesh                                         78.8\n",
       "1  Arunachal Pradesh                                          4.9"
      ]
     },
     "execution_count": 11,
     "metadata": {},
     "output_type": "execute_result"
    }
   ],
   "source": [
    "#3.Tendulkar Poverty Estimates (Combined) : Number Below Poverty Line (Lakhs)\n",
    "BPL = pd.read_csv(r\"C:\\Users\\saura\\Desktop\\CSR\\State Level Data\\CSVs for Python\\3.Tendulkar Poverty Estimates (Combined).csv\")\n",
    "BPL = BPL[[\"State/Union Territory\",\"2011-12\"]]\n",
    "BPL = BPL.rename(columns = {\"2011-12\" : \"Number Below Poverty Line(in Lakhs) 2011-12\"})\n",
    "BPL = BPL.merge(Standard_State_Names, left_on='State/Union Territory', right_on='State', how='left')\n",
    "BPL = BPL[[\"State\",\"Number Below Poverty Line(in Lakhs) 2011-12\"]]\n",
    "BPL = BPL.dropna()\n",
    "BPL.head(2)"
   ]
  },
  {
   "cell_type": "code",
   "execution_count": 12,
   "id": "7c6af38e",
   "metadata": {},
   "outputs": [
    {
     "data": {
      "text/html": [
       "<div>\n",
       "<style scoped>\n",
       "    .dataframe tbody tr th:only-of-type {\n",
       "        vertical-align: middle;\n",
       "    }\n",
       "\n",
       "    .dataframe tbody tr th {\n",
       "        vertical-align: top;\n",
       "    }\n",
       "\n",
       "    .dataframe thead th {\n",
       "        text-align: right;\n",
       "    }\n",
       "</style>\n",
       "<table border=\"1\" class=\"dataframe\">\n",
       "  <thead>\n",
       "    <tr style=\"text-align: right;\">\n",
       "      <th></th>\n",
       "      <th>State</th>\n",
       "      <th>Total Number of Schools 2017-18</th>\n",
       "    </tr>\n",
       "  </thead>\n",
       "  <tbody>\n",
       "    <tr>\n",
       "      <th>1</th>\n",
       "      <td>Andhra Pradesh</td>\n",
       "      <td>63633.0</td>\n",
       "    </tr>\n",
       "    <tr>\n",
       "      <th>2</th>\n",
       "      <td>Arunachal Pradesh</td>\n",
       "      <td>4061.0</td>\n",
       "    </tr>\n",
       "  </tbody>\n",
       "</table>\n",
       "</div>"
      ],
      "text/plain": [
       "               State  Total Number of Schools 2017-18\n",
       "1     Andhra Pradesh                          63633.0\n",
       "2  Arunachal Pradesh                           4061.0"
      ]
     },
     "execution_count": 12,
     "metadata": {},
     "output_type": "execute_result"
    }
   ],
   "source": [
    "#4. Number of Schools by School Management and School Category :\n",
    "SCHO = pd.read_csv(r\"C:\\Users\\saura\\Desktop\\CSR\\State Level Data\\CSVs for Python\\4. Number of Schools by School Management and School Category.csv\")\n",
    "SCHO = SCHO[[\"State/Union Territory\",\"2017-18\"]]\n",
    "SCHO = SCHO.rename(columns={\"2017-18\":\"Total Number of Schools 2017-18\"})\n",
    "SCHO = SCHO.merge(Standard_State_Names, left_on='State/Union Territory', right_on='State', how='left')\n",
    "SCHO = SCHO[[\"State\",\"Total Number of Schools 2017-18\"]]\n",
    "SCHO = SCHO.dropna()\n",
    "SCHO.head(2)"
   ]
  },
  {
   "cell_type": "code",
   "execution_count": 13,
   "id": "56c45c40",
   "metadata": {},
   "outputs": [
    {
     "data": {
      "text/plain": [
       "State                                        28\n",
       "Total Corruption Cases Registered in 2017    28\n",
       "dtype: int64"
      ]
     },
     "execution_count": 13,
     "metadata": {},
     "output_type": "execute_result"
    }
   ],
   "source": [
    "#5. Prevention of Corruption Act & Related Sections of IPC Cases Reported\n",
    "PCA = pd.read_csv(r\"C:\\Users\\saura\\Desktop\\CSR\\State Level Data\\CSVs for Python\\5. Prevention of Corruption Act & Related Sections of IPC Cases Reported.csv\")\n",
    "PCA = PCA[[\"State/Union Territory\",\"2017\"]]\n",
    "PCA = PCA.rename(columns={\"2017\" : \"Total Corruption Cases Registered in 2017\"})\n",
    "PCA = PCA.merge(Standard_State_Names, left_on='State/Union Territory', right_on='State', how='left')\n",
    "PCA = PCA[[\"State\",\"Total Corruption Cases Registered in 2017\"]]\n",
    "PCA = PCA.dropna()\n",
    "PCA.count()"
   ]
  },
  {
   "cell_type": "code",
   "execution_count": 14,
   "id": "93624a78",
   "metadata": {},
   "outputs": [
    {
     "data": {
      "text/html": [
       "<div>\n",
       "<style scoped>\n",
       "    .dataframe tbody tr th:only-of-type {\n",
       "        vertical-align: middle;\n",
       "    }\n",
       "\n",
       "    .dataframe tbody tr th {\n",
       "        vertical-align: top;\n",
       "    }\n",
       "\n",
       "    .dataframe thead th {\n",
       "        text-align: right;\n",
       "    }\n",
       "</style>\n",
       "<table border=\"1\" class=\"dataframe\">\n",
       "  <thead>\n",
       "    <tr style=\"text-align: right;\">\n",
       "      <th></th>\n",
       "      <th>State</th>\n",
       "      <th>GSDP - CURRENT PRICES (Amount in Rs. Crore) 2017-18</th>\n",
       "    </tr>\n",
       "  </thead>\n",
       "  <tbody>\n",
       "    <tr>\n",
       "      <th>0</th>\n",
       "      <td>Andaman and Nicobar Islands</td>\n",
       "      <td>789041</td>\n",
       "    </tr>\n",
       "    <tr>\n",
       "      <th>1</th>\n",
       "      <td>Andhra Pradesh</td>\n",
       "      <td>78613542</td>\n",
       "    </tr>\n",
       "  </tbody>\n",
       "</table>\n",
       "</div>"
      ],
      "text/plain": [
       "                         State  \\\n",
       "0  Andaman and Nicobar Islands   \n",
       "1               Andhra Pradesh   \n",
       "\n",
       "   GSDP - CURRENT PRICES (Amount in Rs. Crore) 2017-18  \n",
       "0                                             789041    \n",
       "1                                           78613542    "
      ]
     },
     "execution_count": 14,
     "metadata": {},
     "output_type": "execute_result"
    }
   ],
   "source": [
    "#6.Nominal GSDP Series : in ₹ Lakhs\n",
    "GSDP = pd.read_csv(r\"C:\\Users\\saura\\Desktop\\CSR\\State Level Data\\CSVs for Python\\6.Nominal GSDP Series.csv\")\n",
    "GSDP = GSDP[[\"State/Union Territory\",\"2017-18\"]]\n",
    "GSDP = GSDP.rename(columns={\"2017-18\":\"GSDP - CURRENT PRICES (Amount in Rs. Crore) 2017-18\"})\n",
    "GSDP = GSDP.merge(Standard_State_Names, left_on='State/Union Territory', right_on='State', how='left')\n",
    "GSDP = GSDP[[\"State\",\"GSDP - CURRENT PRICES (Amount in Rs. Crore) 2017-18\"]]\n",
    "GSDP = GSDP.dropna()\n",
    "GSDP.head(2)"
   ]
  },
  {
   "cell_type": "code",
   "execution_count": 15,
   "id": "d8c24107",
   "metadata": {},
   "outputs": [
    {
     "data": {
      "text/html": [
       "<div>\n",
       "<style scoped>\n",
       "    .dataframe tbody tr th:only-of-type {\n",
       "        vertical-align: middle;\n",
       "    }\n",
       "\n",
       "    .dataframe tbody tr th {\n",
       "        vertical-align: top;\n",
       "    }\n",
       "\n",
       "    .dataframe thead th {\n",
       "        text-align: right;\n",
       "    }\n",
       "</style>\n",
       "<table border=\"1\" class=\"dataframe\">\n",
       "  <thead>\n",
       "    <tr style=\"text-align: right;\">\n",
       "      <th></th>\n",
       "      <th>State</th>\n",
       "      <th>State-wise Total Population (In Thousand, 2011 Census)</th>\n",
       "    </tr>\n",
       "  </thead>\n",
       "  <tbody>\n",
       "    <tr>\n",
       "      <th>0</th>\n",
       "      <td>Andaman and Nicobar Islands</td>\n",
       "      <td>381</td>\n",
       "    </tr>\n",
       "    <tr>\n",
       "      <th>1</th>\n",
       "      <td>Andhra Pradesh</td>\n",
       "      <td>84581</td>\n",
       "    </tr>\n",
       "  </tbody>\n",
       "</table>\n",
       "</div>"
      ],
      "text/plain": [
       "                         State  \\\n",
       "0  Andaman and Nicobar Islands   \n",
       "1               Andhra Pradesh   \n",
       "\n",
       "   State-wise Total Population (In Thousand, 2011 Census)  \n",
       "0                                                381       \n",
       "1                                              84581       "
      ]
     },
     "execution_count": 15,
     "metadata": {},
     "output_type": "execute_result"
    }
   ],
   "source": [
    "#7.State-wise Total Population :\n",
    "Population = pd.read_csv(r\"C:\\Users\\saura\\Desktop\\CSR\\State Level Data\\CSVs for Python\\7.State-wise Total Population.csv\")\n",
    "Population = Population[[\"State/Union Territory\",\"2011\"]]\n",
    "Population = Population.rename(columns={\"2011\":\"State-wise Total Population (In Thousand, 2011 Census)\"})\n",
    "Population = Population.merge(Standard_State_Names, left_on='State/Union Territory', right_on='State', how='left')\n",
    "Population = Population[[\"State\",\"State-wise Total Population (In Thousand, 2011 Census)\"]]\n",
    "Population = Population.dropna()\n",
    "Population.head(2)"
   ]
  },
  {
   "cell_type": "code",
   "execution_count": 16,
   "id": "a06b488a",
   "metadata": {},
   "outputs": [],
   "source": [
    "#Company Type:\n",
    "Table_17_18[\"Company Type(CIN)1\"] = Table_17_18[\"CIN\"].str[12:15]"
   ]
  },
  {
   "cell_type": "code",
   "execution_count": 17,
   "id": "1bc7a8be",
   "metadata": {},
   "outputs": [],
   "source": [
    "Table_17_18.loc[Table_17_18['Company Type(CIN)1'] == 'FLC', 'Company Type(CIN)'] = 'Financial Lease Company as Public Limited'\n",
    "Table_17_18.loc[Table_17_18['Company Type(CIN)1'] == 'FTC', 'Company Type(CIN)'] = 'Subsidiary of a Foreign Company as Private Limited Company'\n",
    "Table_17_18.loc[Table_17_18['Company Type(CIN)1'] == 'GAP', 'Company Type(CIN)'] = 'General Association Public'\n",
    "Table_17_18.loc[Table_17_18['Company Type(CIN)1'] == 'GAT', 'Company Type(CIN)'] = 'General Association Private'\n",
    "Table_17_18.loc[Table_17_18['Company Type(CIN)1'] == 'GOI', 'Company Type(CIN)'] = 'Companies owned by Govt'\n",
    "Table_17_18.loc[Table_17_18['Company Type(CIN)1'] == 'NPL', 'Company Type(CIN)'] = 'Not For Profits License Company'\n",
    "Table_17_18.loc[Table_17_18['Company Type(CIN)1'] == 'PLC', 'Company Type(CIN)'] = 'Public Limited Company'\n",
    "Table_17_18.loc[Table_17_18['Company Type(CIN)1'] == 'PTC', 'Company Type(CIN)'] = 'Private Limited Company'\n",
    "Table_17_18.loc[Table_17_18['Company Type(CIN)1'] == 'SCG', 'Company Type(CIN)'] = 'Companies owned by State Govt'\n",
    "Table_17_18.loc[Table_17_18['Company Type(CIN)1'] == 'ULL', 'Company Type(CIN)'] = 'Public Limited Company with Unlimited Liability'\n",
    "Table_17_18.loc[Table_17_18['Company Type(CIN)1'] == 'ULT', 'Company Type(CIN)'] = 'Private Limited Company with Unlimited Liability'"
   ]
  },
  {
   "cell_type": "code",
   "execution_count": 18,
   "id": "dede736c",
   "metadata": {},
   "outputs": [
    {
     "data": {
      "text/html": [
       "<div>\n",
       "<style scoped>\n",
       "    .dataframe tbody tr th:only-of-type {\n",
       "        vertical-align: middle;\n",
       "    }\n",
       "\n",
       "    .dataframe tbody tr th {\n",
       "        vertical-align: top;\n",
       "    }\n",
       "\n",
       "    .dataframe thead th {\n",
       "        text-align: right;\n",
       "    }\n",
       "</style>\n",
       "<table border=\"1\" class=\"dataframe\">\n",
       "  <thead>\n",
       "    <tr style=\"text-align: right;\">\n",
       "      <th></th>\n",
       "      <th>CIN</th>\n",
       "      <th>CNAME</th>\n",
       "      <th>Class</th>\n",
       "      <th>Company Type</th>\n",
       "      <th>Listing Status</th>\n",
       "      <th>RoC</th>\n",
       "      <th>State</th>\n",
       "      <th>Sub Category</th>\n",
       "      <th>Average Net Profit</th>\n",
       "      <th>CSR Prescribed Expenditure</th>\n",
       "      <th>...</th>\n",
       "      <th>financial_year_y</th>\n",
       "      <th>csr_project</th>\n",
       "      <th>development_Sector</th>\n",
       "      <th>state_name</th>\n",
       "      <th>district</th>\n",
       "      <th>project_amount_outlay</th>\n",
       "      <th>amount_spent</th>\n",
       "      <th>mode_of_implementation</th>\n",
       "      <th>feedback</th>\n",
       "      <th>Company Type(CIN)</th>\n",
       "    </tr>\n",
       "  </thead>\n",
       "  <tbody>\n",
       "    <tr>\n",
       "      <th>0</th>\n",
       "      <td>L00000CH1983PLC031318</td>\n",
       "      <td>Sab Industries Limited</td>\n",
       "      <td>Public</td>\n",
       "      <td>Other than Govt. Companies</td>\n",
       "      <td>Listed</td>\n",
       "      <td>ROC�CHANDIGARH</td>\n",
       "      <td>Chandigarh</td>\n",
       "      <td>Company limited by Shares</td>\n",
       "      <td>0.00</td>\n",
       "      <td>0.09</td>\n",
       "      <td>...</td>\n",
       "      <td>2017-2018</td>\n",
       "      <td>NaN</td>\n",
       "      <td>NEC/ Not Mentioned</td>\n",
       "      <td>NEC/ Not mentioned</td>\n",
       "      <td>NEC/ Not mentioned</td>\n",
       "      <td>0.00</td>\n",
       "      <td>0.00</td>\n",
       "      <td>NaN</td>\n",
       "      <td>✏</td>\n",
       "      <td>Public Limited Company</td>\n",
       "    </tr>\n",
       "    <tr>\n",
       "      <th>1</th>\n",
       "      <td>L00000CH1990PLC010573</td>\n",
       "      <td>Lakshmi Energy And Foods Limited</td>\n",
       "      <td>Public</td>\n",
       "      <td>Other than Govt. Companies</td>\n",
       "      <td>Listed</td>\n",
       "      <td>ROC�CHANDIGARH</td>\n",
       "      <td>Chandigarh</td>\n",
       "      <td>Company limited by Shares</td>\n",
       "      <td>0.00</td>\n",
       "      <td>0.00</td>\n",
       "      <td>...</td>\n",
       "      <td>2017-2018</td>\n",
       "      <td>NaN</td>\n",
       "      <td>NEC/ Not Mentioned</td>\n",
       "      <td>NEC/ Not mentioned</td>\n",
       "      <td>NEC/ Not mentioned</td>\n",
       "      <td>0.00</td>\n",
       "      <td>0.00</td>\n",
       "      <td>NaN</td>\n",
       "      <td>✏</td>\n",
       "      <td>Public Limited Company</td>\n",
       "    </tr>\n",
       "  </tbody>\n",
       "</table>\n",
       "<p>2 rows × 24 columns</p>\n",
       "</div>"
      ],
      "text/plain": [
       "                     CIN                             CNAME    Class  \\\n",
       "0  L00000CH1983PLC031318            Sab Industries Limited  Public    \n",
       "1  L00000CH1990PLC010573  Lakshmi Energy And Foods Limited  Public    \n",
       "\n",
       "                  Company Type Listing Status              RoC       State  \\\n",
       "0  Other than Govt. Companies          Listed  ROC�CHANDIGARH   Chandigarh   \n",
       "1  Other than Govt. Companies          Listed  ROC�CHANDIGARH   Chandigarh   \n",
       "\n",
       "                 Sub Category Average Net Profit   \\\n",
       "0  Company limited by Shares                0.00    \n",
       "1  Company limited by Shares                0.00    \n",
       "\n",
       "   CSR Prescribed Expenditure   ...  financial_year_y csr_project  \\\n",
       "0                         0.09  ...         2017-2018         NaN   \n",
       "1                         0.00  ...         2017-2018         NaN   \n",
       "\n",
       "   development_Sector          state_name            district  \\\n",
       "0  NEC/ Not Mentioned  NEC/ Not mentioned  NEC/ Not mentioned   \n",
       "1  NEC/ Not Mentioned  NEC/ Not mentioned  NEC/ Not mentioned   \n",
       "\n",
       "  project_amount_outlay amount_spent mode_of_implementation feedback  \\\n",
       "0                  0.00         0.00                    NaN        ✏   \n",
       "1                  0.00         0.00                    NaN        ✏   \n",
       "\n",
       "        Company Type(CIN)  \n",
       "0  Public Limited Company  \n",
       "1  Public Limited Company  \n",
       "\n",
       "[2 rows x 24 columns]"
      ]
     },
     "execution_count": 18,
     "metadata": {},
     "output_type": "execute_result"
    }
   ],
   "source": [
    "Table_17_18.drop('Company Type(CIN)1', axis=1, inplace=True)\n",
    "Table_17_18.head(2)"
   ]
  },
  {
   "cell_type": "code",
   "execution_count": 19,
   "id": "2491b428",
   "metadata": {},
   "outputs": [
    {
     "data": {
      "text/html": [
       "<div>\n",
       "<style scoped>\n",
       "    .dataframe tbody tr th:only-of-type {\n",
       "        vertical-align: middle;\n",
       "    }\n",
       "\n",
       "    .dataframe tbody tr th {\n",
       "        vertical-align: top;\n",
       "    }\n",
       "\n",
       "    .dataframe thead th {\n",
       "        text-align: right;\n",
       "    }\n",
       "</style>\n",
       "<table border=\"1\" class=\"dataframe\">\n",
       "  <thead>\n",
       "    <tr style=\"text-align: right;\">\n",
       "      <th></th>\n",
       "      <th>Name of the Company</th>\n",
       "      <th>Group Company</th>\n",
       "    </tr>\n",
       "  </thead>\n",
       "  <tbody>\n",
       "    <tr>\n",
       "      <th>0</th>\n",
       "      <td>Adani International Container Terminal Private...</td>\n",
       "      <td>Adani Group</td>\n",
       "    </tr>\n",
       "    <tr>\n",
       "      <th>1</th>\n",
       "      <td>Adani Township &amp; Real Estate Company Private L...</td>\n",
       "      <td>Adani Group</td>\n",
       "    </tr>\n",
       "    <tr>\n",
       "      <th>2</th>\n",
       "      <td>Adani Infrastructure And Developers Private Li...</td>\n",
       "      <td>Adani Group</td>\n",
       "    </tr>\n",
       "    <tr>\n",
       "      <th>3</th>\n",
       "      <td>Adani Ports And Special Economic Zone Limited</td>\n",
       "      <td>Adani Group</td>\n",
       "    </tr>\n",
       "    <tr>\n",
       "      <th>4</th>\n",
       "      <td>Adani Petronet (Dahej) Port Private Limited</td>\n",
       "      <td>Adani Group</td>\n",
       "    </tr>\n",
       "  </tbody>\n",
       "</table>\n",
       "</div>"
      ],
      "text/plain": [
       "                                 Name of the Company Group Company\n",
       "0  Adani International Container Terminal Private...   Adani Group\n",
       "1  Adani Township & Real Estate Company Private L...   Adani Group\n",
       "2  Adani Infrastructure And Developers Private Li...   Adani Group\n",
       "3      Adani Ports And Special Economic Zone Limited   Adani Group\n",
       "4        Adani Petronet (Dahej) Port Private Limited   Adani Group"
      ]
     },
     "execution_count": 19,
     "metadata": {},
     "output_type": "execute_result"
    }
   ],
   "source": [
    "#Group Companies\n",
    "Group_Comp = pd.read_excel(r\"C:\\Users\\saura\\Desktop\\CSR\\Data From National CSR Portal (Dec 2021)\\Group Companies.xlsx\")\n",
    "Group_Comp.head()"
   ]
  },
  {
   "cell_type": "code",
   "execution_count": 20,
   "id": "02d1f171",
   "metadata": {},
   "outputs": [],
   "source": [
    "#------------------------------------------------------------------------------------------#\n",
    "#Merging all additional tables one by one:\n",
    "#------------------------------------------------------------------------------------------#"
   ]
  },
  {
   "cell_type": "code",
   "execution_count": 21,
   "id": "2495f4cd",
   "metadata": {},
   "outputs": [],
   "source": [
    "Table_17_18 = pd.merge(Table_17_18,Population,on=\"State\",how='left')\n",
    "Table_17_18 = pd.merge(Table_17_18,GSDP,on=\"State\",how='left')\n",
    "Table_17_18 = pd.merge(Table_17_18,SSE,on=\"State\",how='left')\n",
    "Table_17_18 = pd.merge(Table_17_18,HI,on=\"State\",how='left')\n",
    "Table_17_18 = pd.merge(Table_17_18,BPL,on=\"State\",how='left')\n",
    "Table_17_18 = pd.merge(Table_17_18,SCHO,on=\"State\",how='left')\n",
    "Table_17_18 = pd.merge(Table_17_18,Group_Comp,left_on=\"CNAME\",right_on=\"Name of the Company\",how='left')\n",
    "Table_17_18 = pd.merge(Table_17_18,PCA,on=\"State\",how='left')"
   ]
  },
  {
   "cell_type": "code",
   "execution_count": 22,
   "id": "3e70829e",
   "metadata": {},
   "outputs": [],
   "source": [
    "Table_17_18.drop('Name of the Company', axis=1, inplace=True)\n",
    "Table_17_18.drop('financial_year_y', axis=1, inplace=True)\n",
    "Table_17_18 = Table_17_18.rename(columns = {\"financial_year_x\" : \"Financial Year\"})\n",
    "Table_17_18 = Table_17_18.rename(columns = {\"CNAME\" : \"Name of the Company\"})\n",
    "Table_17_18 = Table_17_18.rename(columns = {\"State\" : \"State of Registration\"})\n",
    "Table_17_18 = Table_17_18.rename(columns = {\"csr_project\" : \"CSR Project\"})\n",
    "Table_17_18 = Table_17_18.rename(columns = {\"development_Sector\" : \"Development Sector\"})\n",
    "Table_17_18 = Table_17_18.rename(columns = {\"state_name\" : \"State/Union Territory\"})\n",
    "Table_17_18 = Table_17_18.rename(columns = {\"district\" : \"District\"})\n",
    "Table_17_18 = Table_17_18.rename(columns = {\"project_amount_outlay\" : \"Project Amount Outlay\"})\n",
    "Table_17_18 = Table_17_18.rename(columns = {\"amount_spent\" : \"Amount Spent\"})\n",
    "Table_17_18 = Table_17_18.rename(columns = {\"mode_of_implementation\" : \"Mode of Implementation\"})"
   ]
  },
  {
   "cell_type": "code",
   "execution_count": 23,
   "id": "5582c861",
   "metadata": {},
   "outputs": [
    {
     "data": {
      "text/plain": [
       "CIN                                                             49333\n",
       "Name of the Company                                             49160\n",
       "Class                                                           49316\n",
       "Company Type                                                    49316\n",
       "Listing Status                                                  49316\n",
       "RoC                                                             49165\n",
       "State of Registration                                           49165\n",
       "Sub Category                                                    49165\n",
       "Average Net Profit                                              49333\n",
       "CSR Prescribed Expenditure                                      49333\n",
       "CSR Spent                                                       49333\n",
       "Local Area Spent                                                49333\n",
       "Financial Year                                                  49333\n",
       "S.No                                                            49333\n",
       "CSR Project                                                     38597\n",
       "Development Sector                                              49333\n",
       "State/Union Territory                                           49333\n",
       "District                                                        49289\n",
       "Project Amount Outlay                                           49333\n",
       "Amount Spent                                                    49333\n",
       "Mode of Implementation                                          40658\n",
       "feedback                                                        49333\n",
       "Company Type(CIN)                                               48591\n",
       "State-wise Total Population (In Thousand, 2011 Census)          46224\n",
       "GSDP - CURRENT PRICES (Amount in Rs. Crore) 2017-18             48447\n",
       "Social Sector Expenditure (by the State Governments) 2017-18    40784\n",
       "Health Centres 2017-18                                          48398\n",
       "Number Below Poverty Line(in Lakhs) 2011-12                     46202\n",
       "Total Number of Schools 2017-18                                 43700\n",
       "Group Company                                                    1633\n",
       "Total Corruption Cases Registered in 2017                       48398\n",
       "dtype: int64"
      ]
     },
     "execution_count": 23,
     "metadata": {},
     "output_type": "execute_result"
    }
   ],
   "source": [
    "Table_17_18.count()"
   ]
  },
  {
   "cell_type": "code",
   "execution_count": 25,
   "id": "58ddba46",
   "metadata": {},
   "outputs": [],
   "source": [
    "Table_17_18.to_excel(r\"C:\\Users\\saura\\Desktop\\CSR\\Data From National CSR Portal (Dec 2021)\\Table_Loc_0_7_8 (Financial Year 2017-18).xlsx\")"
   ]
  },
  {
   "cell_type": "code",
   "execution_count": null,
   "id": "74fe3851",
   "metadata": {},
   "outputs": [],
   "source": []
  }
 ],
 "metadata": {
  "kernelspec": {
   "display_name": "Python 3",
   "language": "python",
   "name": "python3"
  },
  "language_info": {
   "codemirror_mode": {
    "name": "ipython",
    "version": 3
   },
   "file_extension": ".py",
   "mimetype": "text/x-python",
   "name": "python",
   "nbconvert_exporter": "python",
   "pygments_lexer": "ipython3",
   "version": "3.8.8"
  }
 },
 "nbformat": 4,
 "nbformat_minor": 5
}
